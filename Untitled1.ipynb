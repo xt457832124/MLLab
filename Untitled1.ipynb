{
 "cells": [
  {
   "cell_type": "code",
   "execution_count": 5,
   "metadata": {
    "collapsed": true
   },
   "outputs": [],
   "source": [
    "import pandas as pd\n",
    "import numpy as np\n",
    "import matplotlib \n",
    "import matplotlib.pyplot as plt\n"
   ]
  },
  {
   "cell_type": "code",
   "execution_count": 6,
   "metadata": {
    "collapsed": true
   },
   "outputs": [],
   "source": [
    "names =[\n",
    "    't',                                  # Time (secs)\n",
    "    'q1', 'q2', 'q3',                     # Joint angle   (rads)\n",
    "    'dq1', 'dq2', 'dq3',                  # Joint velocity (rads/sec)\n",
    "    'I1', 'I2', 'I3',                     # Motor current (A)\n",
    "    'eps21', 'eps22', 'eps31', 'eps32',   # Strain gauge measurements ($\\mu$m /m )\n",
    "    'ddq1', 'ddq2', 'ddq3'                # Joint accelerations (rad/sec^2)\n",
    "]\n"
   ]
  },
  {
   "cell_type": "code",
   "execution_count": 7,
   "metadata": {
    "collapsed": true
   },
   "outputs": [],
   "source": [
    "df = pd.read_csv('https://raw.githubusercontent.com/sdrangan/introml/7f53ab1a8f6fe32991b7ed7eb8930952aaba0910/unit03_mult_lin_reg/exp1.csv',header=None,delim_whitespace=False,names=names,na_values='?')"
   ]
  },
  {
   "cell_type": "code",
   "execution_count": 8,
   "metadata": {
    "scrolled": true
   },
   "outputs": [
    {
     "data": {
      "text/html": [
       "<div>\n",
       "<style scoped>\n",
       "    .dataframe tbody tr th:only-of-type {\n",
       "        vertical-align: middle;\n",
       "    }\n",
       "\n",
       "    .dataframe tbody tr th {\n",
       "        vertical-align: top;\n",
       "    }\n",
       "\n",
       "    .dataframe thead th {\n",
       "        text-align: right;\n",
       "    }\n",
       "</style>\n",
       "<table border=\"1\" class=\"dataframe\">\n",
       "  <thead>\n",
       "    <tr style=\"text-align: right;\">\n",
       "      <th></th>\n",
       "      <th>t</th>\n",
       "      <th>q1</th>\n",
       "      <th>q2</th>\n",
       "      <th>q3</th>\n",
       "      <th>dq1</th>\n",
       "      <th>dq2</th>\n",
       "      <th>dq3</th>\n",
       "      <th>I1</th>\n",
       "      <th>I2</th>\n",
       "      <th>I3</th>\n",
       "      <th>eps21</th>\n",
       "      <th>eps22</th>\n",
       "      <th>eps31</th>\n",
       "      <th>eps32</th>\n",
       "      <th>ddq1</th>\n",
       "      <th>ddq2</th>\n",
       "      <th>ddq3</th>\n",
       "    </tr>\n",
       "  </thead>\n",
       "  <tbody>\n",
       "    <tr>\n",
       "      <th>0</th>\n",
       "      <td>0.00</td>\n",
       "      <td>-0.000007</td>\n",
       "      <td>2.4958</td>\n",
       "      <td>-1.1345</td>\n",
       "      <td>-7.882100e-21</td>\n",
       "      <td>-4.940656e-321</td>\n",
       "      <td>3.913100e-29</td>\n",
       "      <td>-0.081623</td>\n",
       "      <td>-0.40812</td>\n",
       "      <td>-0.30609</td>\n",
       "      <td>-269.25</td>\n",
       "      <td>-113.20</td>\n",
       "      <td>3.5918</td>\n",
       "      <td>1.57860</td>\n",
       "      <td>-9.904900e-19</td>\n",
       "      <td>-6.210306e-319</td>\n",
       "      <td>4.917400e-27</td>\n",
       "    </tr>\n",
       "    <tr>\n",
       "      <th>1</th>\n",
       "      <td>0.01</td>\n",
       "      <td>-0.000007</td>\n",
       "      <td>2.4958</td>\n",
       "      <td>-1.1345</td>\n",
       "      <td>-2.258200e-21</td>\n",
       "      <td>-4.940656e-321</td>\n",
       "      <td>2.626200e-31</td>\n",
       "      <td>-0.037411</td>\n",
       "      <td>-0.37241</td>\n",
       "      <td>-0.26698</td>\n",
       "      <td>-270.91</td>\n",
       "      <td>-116.05</td>\n",
       "      <td>1.4585</td>\n",
       "      <td>-1.73980</td>\n",
       "      <td>4.248100e-19</td>\n",
       "      <td>-1.766878e-319</td>\n",
       "      <td>-1.381100e-27</td>\n",
       "    </tr>\n",
       "    <tr>\n",
       "      <th>2</th>\n",
       "      <td>0.02</td>\n",
       "      <td>-0.000007</td>\n",
       "      <td>2.4958</td>\n",
       "      <td>-1.1345</td>\n",
       "      <td>-6.469800e-22</td>\n",
       "      <td>-4.940656e-321</td>\n",
       "      <td>1.762500e-33</td>\n",
       "      <td>-0.066319</td>\n",
       "      <td>-0.40302</td>\n",
       "      <td>-0.31459</td>\n",
       "      <td>-269.25</td>\n",
       "      <td>-112.97</td>\n",
       "      <td>3.5918</td>\n",
       "      <td>0.86753</td>\n",
       "      <td>3.233800e-19</td>\n",
       "      <td>-4.990557e-320</td>\n",
       "      <td>-4.117300e-28</td>\n",
       "    </tr>\n",
       "    <tr>\n",
       "      <th>3</th>\n",
       "      <td>0.03</td>\n",
       "      <td>-0.000007</td>\n",
       "      <td>2.4958</td>\n",
       "      <td>-1.1345</td>\n",
       "      <td>-1.853600e-22</td>\n",
       "      <td>-4.940656e-321</td>\n",
       "      <td>1.182800e-35</td>\n",
       "      <td>-0.068020</td>\n",
       "      <td>-0.43703</td>\n",
       "      <td>-0.28398</td>\n",
       "      <td>-269.97</td>\n",
       "      <td>-114.39</td>\n",
       "      <td>1.6956</td>\n",
       "      <td>-0.08059</td>\n",
       "      <td>1.500500e-19</td>\n",
       "      <td>-1.394253e-320</td>\n",
       "      <td>-1.173100e-28</td>\n",
       "    </tr>\n",
       "    <tr>\n",
       "      <th>4</th>\n",
       "      <td>0.04</td>\n",
       "      <td>-0.000007</td>\n",
       "      <td>2.4958</td>\n",
       "      <td>-1.1345</td>\n",
       "      <td>-5.310600e-23</td>\n",
       "      <td>-4.940656e-321</td>\n",
       "      <td>-5.270900e-03</td>\n",
       "      <td>-0.052715</td>\n",
       "      <td>-0.40472</td>\n",
       "      <td>-0.30779</td>\n",
       "      <td>-269.97</td>\n",
       "      <td>-114.15</td>\n",
       "      <td>3.1177</td>\n",
       "      <td>0.86753</td>\n",
       "      <td>5.932400e-20</td>\n",
       "      <td>-3.581976e-321</td>\n",
       "      <td>-3.770800e-01</td>\n",
       "    </tr>\n",
       "    <tr>\n",
       "      <th>5</th>\n",
       "      <td>0.05</td>\n",
       "      <td>-0.000007</td>\n",
       "      <td>2.4958</td>\n",
       "      <td>-1.1345</td>\n",
       "      <td>-1.521500e-23</td>\n",
       "      <td>-4.940656e-321</td>\n",
       "      <td>3.252600e-04</td>\n",
       "      <td>-0.088425</td>\n",
       "      <td>-0.42342</td>\n",
       "      <td>-0.29589</td>\n",
       "      <td>-269.25</td>\n",
       "      <td>-114.15</td>\n",
       "      <td>2.4066</td>\n",
       "      <td>-0.08059</td>\n",
       "      <td>2.164600e-20</td>\n",
       "      <td>-1.141292e-321</td>\n",
       "      <td>2.930300e-01</td>\n",
       "    </tr>\n",
       "  </tbody>\n",
       "</table>\n",
       "</div>"
      ],
      "text/plain": [
       "      t        q1      q2      q3           dq1            dq2           dq3  \\\n",
       "0  0.00 -0.000007  2.4958 -1.1345 -7.882100e-21 -4.940656e-321  3.913100e-29   \n",
       "1  0.01 -0.000007  2.4958 -1.1345 -2.258200e-21 -4.940656e-321  2.626200e-31   \n",
       "2  0.02 -0.000007  2.4958 -1.1345 -6.469800e-22 -4.940656e-321  1.762500e-33   \n",
       "3  0.03 -0.000007  2.4958 -1.1345 -1.853600e-22 -4.940656e-321  1.182800e-35   \n",
       "4  0.04 -0.000007  2.4958 -1.1345 -5.310600e-23 -4.940656e-321 -5.270900e-03   \n",
       "5  0.05 -0.000007  2.4958 -1.1345 -1.521500e-23 -4.940656e-321  3.252600e-04   \n",
       "\n",
       "         I1       I2       I3   eps21   eps22   eps31    eps32          ddq1  \\\n",
       "0 -0.081623 -0.40812 -0.30609 -269.25 -113.20  3.5918  1.57860 -9.904900e-19   \n",
       "1 -0.037411 -0.37241 -0.26698 -270.91 -116.05  1.4585 -1.73980  4.248100e-19   \n",
       "2 -0.066319 -0.40302 -0.31459 -269.25 -112.97  3.5918  0.86753  3.233800e-19   \n",
       "3 -0.068020 -0.43703 -0.28398 -269.97 -114.39  1.6956 -0.08059  1.500500e-19   \n",
       "4 -0.052715 -0.40472 -0.30779 -269.97 -114.15  3.1177  0.86753  5.932400e-20   \n",
       "5 -0.088425 -0.42342 -0.29589 -269.25 -114.15  2.4066 -0.08059  2.164600e-20   \n",
       "\n",
       "            ddq2          ddq3  \n",
       "0 -6.210306e-319  4.917400e-27  \n",
       "1 -1.766878e-319 -1.381100e-27  \n",
       "2 -4.990557e-320 -4.117300e-28  \n",
       "3 -1.394253e-320 -1.173100e-28  \n",
       "4 -3.581976e-321 -3.770800e-01  \n",
       "5 -1.141292e-321  2.930300e-01  "
      ]
     },
     "execution_count": 8,
     "metadata": {},
     "output_type": "execute_result"
    }
   ],
   "source": [
    "df.head(6)"
   ]
  },
  {
   "cell_type": "code",
   "execution_count": 9,
   "metadata": {},
   "outputs": [
    {
     "name": "stdout",
     "output_type": "stream",
     "text": [
      "[0.000e+00 1.000e-02 2.000e-02 ... 7.997e+01 7.998e+01 7.999e+01]\n"
     ]
    }
   ],
   "source": [
    "\n",
    "t=np.array(df['t'])\n",
    "y=np.array(df['I2'])\n",
    "print(t)"
   ]
  },
  {
   "cell_type": "code",
   "execution_count": 10,
   "metadata": {},
   "outputs": [
    {
     "name": "stdout",
     "output_type": "stream",
     "text": [
      "[-0.40812  -0.37241  -0.40302  ...  0.06802   0.011903  0.037411]\n"
     ]
    }
   ],
   "source": [
    "print(y)"
   ]
  },
  {
   "cell_type": "code",
   "execution_count": 11,
   "metadata": {
    "collapsed": true
   },
   "outputs": [],
   "source": [
    "import matplotlib\n",
    "import matplotlib.pyplot as plt"
   ]
  },
  {
   "cell_type": "code",
   "execution_count": 12,
   "metadata": {
    "scrolled": true
   },
   "outputs": [
    {
     "data": {
      "image/png": "[encoded data removed]",
      "text/plain": [
       "<Figure size 432x288 with 1 Axes>"
      ]
     },
     "metadata": {
      "needs_background": "light"
     },
     "output_type": "display_data"
    }
   ],
   "source": [
    "plt.plot(t,y,'o')\n",
    "plt.xlabel('t')\n",
    "plt.ylabel('I2')\n",
    "plt.grid(True)"
   ]
  },
  {
   "cell_type": "code",
   "execution_count": 13,
   "metadata": {
    "collapsed": true
   },
   "outputs": [],
   "source": [
    "ytrain=y\n",
    "xtrain=df[['q2','dq2','eps21', 'eps22', 'eps31', 'eps32','ddq2']]"
   ]
  },
  {
   "cell_type": "code",
   "execution_count": 14,
   "metadata": {
    "scrolled": true
   },
   "outputs": [
    {
     "name": "stdout",
     "output_type": "stream",
     "text": [
      "          q2            dq2    eps21    eps22     eps31     eps32  \\\n",
      "0     2.4958 -4.940656e-321 -269.250 -113.200   3.59180   1.57860   \n",
      "1     2.4958 -4.940656e-321 -270.910 -116.050   1.45850  -1.73980   \n",
      "2     2.4958 -4.940656e-321 -269.250 -112.970   3.59180   0.86753   \n",
      "3     2.4958 -4.940656e-321 -269.970 -114.390   1.69560  -0.08059   \n",
      "4     2.4958 -4.940656e-321 -269.970 -114.150   3.11770   0.86753   \n",
      "5     2.4958 -4.940656e-321 -269.250 -114.150   2.40660  -0.08059   \n",
      "6     2.4958 -4.940656e-321 -265.940 -108.940   7.38430   6.08220   \n",
      "7     2.4958 -4.940656e-321 -271.860 -116.990  -0.43771  -2.45090   \n",
      "8     2.4958 -4.940656e-321 -269.730 -114.150   2.88070   0.86753   \n",
      "9     2.4958 -4.940656e-321 -269.730 -114.390   2.64370   0.39347   \n",
      "10    2.4958 -4.940656e-321 -271.860 -116.050   1.45850  -1.73980   \n",
      "11    2.4958 -4.940656e-321 -269.490 -112.970   2.88070   0.86753   \n",
      "12    2.4958 -4.940656e-321 -270.200 -113.910   3.11770   0.86753   \n",
      "13    2.4958 -4.940656e-321 -270.680 -114.860   1.45850  -1.02870   \n",
      "14    2.4958 -4.940656e-321 -269.970 -114.150   2.88070   0.15644   \n",
      "15    2.4958 -4.940656e-321 -269.020 -112.490   3.59180   2.05270   \n",
      "16    2.4958 -4.940656e-321 -268.780 -113.910   3.35480   0.86753   \n",
      "17    2.4958 -4.940656e-321 -265.700 -108.220   7.14720   5.84520   \n",
      "18    2.4958 -4.940656e-321 -269.730 -112.970   3.11770   1.57860   \n",
      "19    2.4958 -4.940656e-321 -273.760 -118.890  -1.38580  -5.53230   \n",
      "20    2.4958 -4.940656e-321 -268.310 -112.490   3.59180   1.57860   \n",
      "21    2.4958 -4.940656e-321 -269.730 -114.390   2.40660  -0.08059   \n",
      "22    2.4958 -4.940656e-321 -270.440 -114.150   2.88070   0.15644   \n",
      "23    2.4958 -4.940656e-321 -268.310 -112.250   3.59180   1.10460   \n",
      "24    2.4958 -4.940656e-321 -268.540 -112.490   3.82880   1.57860   \n",
      "25    2.4958 -4.940656e-321 -269.730 -114.150   1.69560  -0.55465   \n",
      "26    2.4958 -4.940656e-321 -268.070 -110.590   5.01400   3.23780   \n",
      "27    2.4958 -4.940656e-321 -267.600 -110.360   5.96210   4.89700   \n",
      "28    2.4958 -4.940656e-321 -272.810 -117.230   0.27337  -2.21390   \n",
      "29    2.4958 -4.940656e-321 -268.310 -112.020   3.82880   2.05270   \n",
      "...      ...            ...      ...      ...       ...       ...   \n",
      "7970  1.6711   1.102200e+00  -57.350  -21.709  -4.94130  -0.55465   \n",
      "7971  1.6821   1.091100e+00  -56.876  -20.287  -4.70430   5.60810   \n",
      "7972  1.6930   1.099000e+00  -71.335  -30.242 -10.63000  -0.08059   \n",
      "7973  1.7040   1.092300e+00  -86.031  -31.664  -7.31160   1.81560   \n",
      "7974  1.7149   1.098400e+00 -102.620  -42.567  -7.31160  -3.16200   \n",
      "7975  1.7259   1.096900e+00 -111.390  -45.175  -6.12640   0.15644   \n",
      "7976  1.7368   1.085400e+00 -121.820  -54.419 -13.47400  -6.71740   \n",
      "7977  1.7478   1.101600e+00 -121.110  -54.182 -13.94800  -4.34710   \n",
      "7978  1.7587   1.092900e+00 -121.350  -55.841 -12.52600  -2.45090   \n",
      "7979  1.7696   1.096000e+00 -125.850  -58.685 -15.60800  -3.63600   \n",
      "7980  1.7806   1.097500e+00 -125.380  -52.049  -9.44480   0.15644   \n",
      "7981  1.7916   1.090800e+00 -125.380  -48.256  -3.75610   2.28970   \n",
      "7982  1.8025   1.098300e+00 -132.490  -53.471  -6.12640  -0.55465   \n",
      "7983  1.8135   1.093000e+00 -130.120  -53.945  -9.68190  -2.92490   \n",
      "7984  1.8244   1.090500e+00 -125.140  -54.182 -14.18500  -3.16200   \n",
      "7985  1.8353   1.093200e+00 -118.740  -52.760 -15.37100  -3.39900   \n",
      "7986  1.8462   1.085700e+00 -123.010  -60.345 -19.40000 -11.69500   \n",
      "7987  1.8570   1.091800e+00 -105.470  -34.271   3.82880   9.63760   \n",
      "7988  1.8680   1.083100e+00 -112.580  -41.382  -1.38580   2.28970   \n",
      "7989  1.8788   1.089000e+00 -111.870  -41.856  -5.41530  -1.73980   \n",
      "7990  1.8897   1.094700e+00  -98.593  -32.375   0.74743   8.45250   \n",
      "7991  1.9006   1.084800e+00 -104.280  -43.278  -9.20780  -1.50280   \n",
      "7992  1.9115   1.092200e+00 -106.890  -43.278  -9.91890  -0.55465   \n",
      "7993  1.9224   1.085300e+00 -110.440  -44.701 -10.39300  -4.34710   \n",
      "7994  1.9332   1.087400e+00 -114.000  -50.626 -11.10400  -7.66550   \n",
      "7995  1.9441   1.092700e+00 -110.440  -40.434  -2.33400   3.71190   \n",
      "7996  1.9550   1.081500e+00 -114.710  -41.619  -2.09690   1.10460   \n",
      "7997  1.9659   1.095700e+00 -118.030  -41.856  -2.09690   3.71190   \n",
      "7998  1.9768   1.091300e+00 -133.200  -57.737 -12.52600  -5.76930   \n",
      "7999  1.9877   1.089900e+00 -135.570  -56.078 -11.10400  -1.50280   \n",
      "\n",
      "               ddq2  \n",
      "0    -6.210306e-319  \n",
      "1    -1.766878e-319  \n",
      "2    -4.990557e-320  \n",
      "3    -1.394253e-320  \n",
      "4    -3.581976e-321  \n",
      "5    -1.141292e-321  \n",
      "6     7.905050e-323  \n",
      "7     7.905050e-323  \n",
      "8     7.905050e-323  \n",
      "9     7.905050e-323  \n",
      "10    7.905050e-323  \n",
      "11    7.905050e-323  \n",
      "12    7.905050e-323  \n",
      "13    7.905050e-323  \n",
      "14    7.905050e-323  \n",
      "15    7.905050e-323  \n",
      "16    7.905050e-323  \n",
      "17    7.905050e-323  \n",
      "18    7.905050e-323  \n",
      "19    7.905050e-323  \n",
      "20    7.905050e-323  \n",
      "21    7.905050e-323  \n",
      "22    7.905050e-323  \n",
      "23    7.905050e-323  \n",
      "24    7.905050e-323  \n",
      "25    7.905050e-323  \n",
      "26    7.905050e-323  \n",
      "27    7.905050e-323  \n",
      "28    7.905050e-323  \n",
      "29    7.905050e-323  \n",
      "...             ...  \n",
      "7970   5.896800e-01  \n",
      "7971  -6.321500e-01  \n",
      "7972   3.872600e-01  \n",
      "7973  -3.687700e-01  \n",
      "7974   3.310400e-01  \n",
      "7975  -1.366300e-02  \n",
      "7976  -8.240400e-01  \n",
      "7977   9.223700e-01  \n",
      "7978  -3.567000e-01  \n",
      "7979   1.201800e-01  \n",
      "7980   1.390500e-01  \n",
      "7981  -4.396000e-01  \n",
      "7982   4.118700e-01  \n",
      "7983  -2.639300e-01  \n",
      "7984  -2.519200e-01  \n",
      "7985   1.218700e-01  \n",
      "7986  -5.006900e-01  \n",
      "7987   2.946900e-01  \n",
      "7988  -5.442900e-01  \n",
      "7989   2.681800e-01  \n",
      "7990   4.839500e-01  \n",
      "7991  -5.648300e-01  \n",
      "7992   3.661700e-01  \n",
      "7993  -3.904300e-01  \n",
      "7994   4.114700e-02  \n",
      "7995   3.884400e-01  \n",
      "7996  -6.908700e-01  \n",
      "7997   8.226400e-01  \n",
      "7998  -8.205000e-02  \n",
      "7999  -1.255900e-01  \n",
      "\n",
      "[8000 rows x 7 columns]\n"
     ]
    }
   ],
   "source": [
    "print(xtrain)"
   ]
  },
  {
   "cell_type": "code",
   "execution_count": 15,
   "metadata": {},
   "outputs": [
    {
     "name": "stdout",
     "output_type": "stream",
     "text": [
      "          q2            dq2    eps21    eps22     eps31     eps32  \\\n",
      "0     2.4958 -4.940656e-321 -269.250 -113.200   3.59180   1.57860   \n",
      "1     2.4958 -4.940656e-321 -270.910 -116.050   1.45850  -1.73980   \n",
      "2     2.4958 -4.940656e-321 -269.250 -112.970   3.59180   0.86753   \n",
      "3     2.4958 -4.940656e-321 -269.970 -114.390   1.69560  -0.08059   \n",
      "4     2.4958 -4.940656e-321 -269.970 -114.150   3.11770   0.86753   \n",
      "5     2.4958 -4.940656e-321 -269.250 -114.150   2.40660  -0.08059   \n",
      "6     2.4958 -4.940656e-321 -265.940 -108.940   7.38430   6.08220   \n",
      "7     2.4958 -4.940656e-321 -271.860 -116.990  -0.43771  -2.45090   \n",
      "8     2.4958 -4.940656e-321 -269.730 -114.150   2.88070   0.86753   \n",
      "9     2.4958 -4.940656e-321 -269.730 -114.390   2.64370   0.39347   \n",
      "10    2.4958 -4.940656e-321 -271.860 -116.050   1.45850  -1.73980   \n",
      "11    2.4958 -4.940656e-321 -269.490 -112.970   2.88070   0.86753   \n",
      "12    2.4958 -4.940656e-321 -270.200 -113.910   3.11770   0.86753   \n",
      "13    2.4958 -4.940656e-321 -270.680 -114.860   1.45850  -1.02870   \n",
      "14    2.4958 -4.940656e-321 -269.970 -114.150   2.88070   0.15644   \n",
      "15    2.4958 -4.940656e-321 -269.020 -112.490   3.59180   2.05270   \n",
      "16    2.4958 -4.940656e-321 -268.780 -113.910   3.35480   0.86753   \n",
      "17    2.4958 -4.940656e-321 -265.700 -108.220   7.14720   5.84520   \n",
      "18    2.4958 -4.940656e-321 -269.730 -112.970   3.11770   1.57860   \n",
      "19    2.4958 -4.940656e-321 -273.760 -118.890  -1.38580  -5.53230   \n",
      "20    2.4958 -4.940656e-321 -268.310 -112.490   3.59180   1.57860   \n",
      "21    2.4958 -4.940656e-321 -269.730 -114.390   2.40660  -0.08059   \n",
      "22    2.4958 -4.940656e-321 -270.440 -114.150   2.88070   0.15644   \n",
      "23    2.4958 -4.940656e-321 -268.310 -112.250   3.59180   1.10460   \n",
      "24    2.4958 -4.940656e-321 -268.540 -112.490   3.82880   1.57860   \n",
      "25    2.4958 -4.940656e-321 -269.730 -114.150   1.69560  -0.55465   \n",
      "26    2.4958 -4.940656e-321 -268.070 -110.590   5.01400   3.23780   \n",
      "27    2.4958 -4.940656e-321 -267.600 -110.360   5.96210   4.89700   \n",
      "28    2.4958 -4.940656e-321 -272.810 -117.230   0.27337  -2.21390   \n",
      "29    2.4958 -4.940656e-321 -268.310 -112.020   3.82880   2.05270   \n",
      "...      ...            ...      ...      ...       ...       ...   \n",
      "7970  1.6711   1.102200e+00  -57.350  -21.709  -4.94130  -0.55465   \n",
      "7971  1.6821   1.091100e+00  -56.876  -20.287  -4.70430   5.60810   \n",
      "7972  1.6930   1.099000e+00  -71.335  -30.242 -10.63000  -0.08059   \n",
      "7973  1.7040   1.092300e+00  -86.031  -31.664  -7.31160   1.81560   \n",
      "7974  1.7149   1.098400e+00 -102.620  -42.567  -7.31160  -3.16200   \n",
      "7975  1.7259   1.096900e+00 -111.390  -45.175  -6.12640   0.15644   \n",
      "7976  1.7368   1.085400e+00 -121.820  -54.419 -13.47400  -6.71740   \n",
      "7977  1.7478   1.101600e+00 -121.110  -54.182 -13.94800  -4.34710   \n",
      "7978  1.7587   1.092900e+00 -121.350  -55.841 -12.52600  -2.45090   \n",
      "7979  1.7696   1.096000e+00 -125.850  -58.685 -15.60800  -3.63600   \n",
      "7980  1.7806   1.097500e+00 -125.380  -52.049  -9.44480   0.15644   \n",
      "7981  1.7916   1.090800e+00 -125.380  -48.256  -3.75610   2.28970   \n",
      "7982  1.8025   1.098300e+00 -132.490  -53.471  -6.12640  -0.55465   \n",
      "7983  1.8135   1.093000e+00 -130.120  -53.945  -9.68190  -2.92490   \n",
      "7984  1.8244   1.090500e+00 -125.140  -54.182 -14.18500  -3.16200   \n",
      "7985  1.8353   1.093200e+00 -118.740  -52.760 -15.37100  -3.39900   \n",
      "7986  1.8462   1.085700e+00 -123.010  -60.345 -19.40000 -11.69500   \n",
      "7987  1.8570   1.091800e+00 -105.470  -34.271   3.82880   9.63760   \n",
      "7988  1.8680   1.083100e+00 -112.580  -41.382  -1.38580   2.28970   \n",
      "7989  1.8788   1.089000e+00 -111.870  -41.856  -5.41530  -1.73980   \n",
      "7990  1.8897   1.094700e+00  -98.593  -32.375   0.74743   8.45250   \n",
      "7991  1.9006   1.084800e+00 -104.280  -43.278  -9.20780  -1.50280   \n",
      "7992  1.9115   1.092200e+00 -106.890  -43.278  -9.91890  -0.55465   \n",
      "7993  1.9224   1.085300e+00 -110.440  -44.701 -10.39300  -4.34710   \n",
      "7994  1.9332   1.087400e+00 -114.000  -50.626 -11.10400  -7.66550   \n",
      "7995  1.9441   1.092700e+00 -110.440  -40.434  -2.33400   3.71190   \n",
      "7996  1.9550   1.081500e+00 -114.710  -41.619  -2.09690   1.10460   \n",
      "7997  1.9659   1.095700e+00 -118.030  -41.856  -2.09690   3.71190   \n",
      "7998  1.9768   1.091300e+00 -133.200  -57.737 -12.52600  -5.76930   \n",
      "7999  1.9877   1.089900e+00 -135.570  -56.078 -11.10400  -1.50280   \n",
      "\n",
      "               ddq2  \n",
      "0    -6.210306e-319  \n",
      "1    -1.766878e-319  \n",
      "2    -4.990557e-320  \n",
      "3    -1.394253e-320  \n",
      "4    -3.581976e-321  \n",
      "5    -1.141292e-321  \n",
      "6     7.905050e-323  \n",
      "7     7.905050e-323  \n",
      "8     7.905050e-323  \n",
      "9     7.905050e-323  \n",
      "10    7.905050e-323  \n",
      "11    7.905050e-323  \n",
      "12    7.905050e-323  \n",
      "13    7.905050e-323  \n",
      "14    7.905050e-323  \n",
      "15    7.905050e-323  \n",
      "16    7.905050e-323  \n",
      "17    7.905050e-323  \n",
      "18    7.905050e-323  \n",
      "19    7.905050e-323  \n",
      "20    7.905050e-323  \n",
      "21    7.905050e-323  \n",
      "22    7.905050e-323  \n",
      "23    7.905050e-323  \n",
      "24    7.905050e-323  \n",
      "25    7.905050e-323  \n",
      "26    7.905050e-323  \n",
      "27    7.905050e-323  \n",
      "28    7.905050e-323  \n",
      "29    7.905050e-323  \n",
      "...             ...  \n",
      "7970   5.896800e-01  \n",
      "7971  -6.321500e-01  \n",
      "7972   3.872600e-01  \n",
      "7973  -3.687700e-01  \n",
      "7974   3.310400e-01  \n",
      "7975  -1.366300e-02  \n",
      "7976  -8.240400e-01  \n",
      "7977   9.223700e-01  \n",
      "7978  -3.567000e-01  \n",
      "7979   1.201800e-01  \n",
      "7980   1.390500e-01  \n",
      "7981  -4.396000e-01  \n",
      "7982   4.118700e-01  \n",
      "7983  -2.639300e-01  \n",
      "7984  -2.519200e-01  \n",
      "7985   1.218700e-01  \n",
      "7986  -5.006900e-01  \n",
      "7987   2.946900e-01  \n",
      "7988  -5.442900e-01  \n",
      "7989   2.681800e-01  \n",
      "7990   4.839500e-01  \n",
      "7991  -5.648300e-01  \n",
      "7992   3.661700e-01  \n",
      "7993  -3.904300e-01  \n",
      "7994   4.114700e-02  \n",
      "7995   3.884400e-01  \n",
      "7996  -6.908700e-01  \n",
      "7997   8.226400e-01  \n",
      "7998  -8.205000e-02  \n",
      "7999  -1.255900e-01  \n",
      "\n",
      "[8000 rows x 7 columns]\n"
     ]
    }
   ],
   "source": [
    "print(xtrain)"
   ]
  },
  {
   "cell_type": "code",
   "execution_count": 16,
   "metadata": {},
   "outputs": [
    {
     "data": {
      "text/plain": [
       "LinearRegression(copy_X=True, fit_intercept=True, n_jobs=None,\n",
       "         normalize=False)"
      ]
     },
     "execution_count": 16,
     "metadata": {},
     "output_type": "execute_result"
    }
   ],
   "source": [
    "from sklearn import linear_model\n",
    "regr=linear_model.LinearRegression()\n",
    "regr.fit(xtrain,ytrain)"
   ]
  },
  {
   "cell_type": "code",
   "execution_count": 18,
   "metadata": {},
   "outputs": [
    {
     "data": {
      "text/plain": [
       "-0.08408083770451401"
      ]
     },
     "execution_count": 18,
     "metadata": {},
     "output_type": "execute_result"
    }
   ],
   "source": [
    "regr.intercept_"
   ]
  },
  {
   "cell_type": "raw",
   "metadata": {},
   "source": [
    "regr.coef"
   ]
  },
  {
   "cell_type": "code",
   "execution_count": 20,
   "metadata": {},
   "outputs": [
    {
     "data": {
      "text/plain": [
       "array([ 0.06255018,  0.20584896,  0.00118784,  0.00044457, -0.0031362 ,\n",
       "        0.00603298,  0.05487097])"
      ]
     },
     "execution_count": 20,
     "metadata": {},
     "output_type": "execute_result"
    }
   ],
   "source": [
    "regr.coef_"
   ]
  },
  {
   "cell_type": "code",
   "execution_count": 21,
   "metadata": {},
   "outputs": [
    {
     "name": "stdout",
     "output_type": "stream",
     "text": [
      "RSS per sample = 0.095833\n",
      "R^2 =            0.904167\n"
     ]
    }
   ],
   "source": [
    "\n",
    "y_tr_pred = regr.predict(xtrain)\n",
    "RSS_tr = np.mean((y_tr_pred-ytrain)**2)/(np.std(ytrain)**2)\n",
    "Rsq_tr = 1-RSS_tr\n",
    "print(\"RSS per sample = {0:f}\".format(RSS_tr))\n",
    "print(\"R^2 =            {0:f}\".format(Rsq_tr))"
   ]
  },
  {
   "cell_type": "code",
   "execution_count": 22,
   "metadata": {},
   "outputs": [
    {
     "data": {
      "image/png": "[encoded data removed]",
      "text/plain": [
       "<Figure size 432x288 with 1 Axes>"
      ]
     },
     "metadata": {
      "needs_background": "light"
     },
     "output_type": "display_data"
    }
   ],
   "source": [
    "plt.scatter(ytrain,y_tr_pred)\n",
    "plt.plot([-1,1],[-1,1],'r')\n",
    "plt.xlabel('Actual')\n",
    "plt.ylabel('Predicted')\n",
    "plt.grid()"
   ]
  },
  {
   "cell_type": "code",
   "execution_count": 23,
   "metadata": {
    "collapsed": true
   },
   "outputs": [],
   "source": [
    "dft = pd.read_csv('https://raw.githubusercontent.com/sdrangan/introml/884429c24114ff17cc5ee7ef5bc855641b90dc94/unit03_mult_lin_reg/exp2.csv',header=None,delim_whitespace=False,names=names,na_values='?')"
   ]
  },
  {
   "cell_type": "code",
   "execution_count": 24,
   "metadata": {},
   "outputs": [
    {
     "data": {
      "text/html": [
       "<div>\n",
       "<style scoped>\n",
       "    .dataframe tbody tr th:only-of-type {\n",
       "        vertical-align: middle;\n",
       "    }\n",
       "\n",
       "    .dataframe tbody tr th {\n",
       "        vertical-align: top;\n",
       "    }\n",
       "\n",
       "    .dataframe thead th {\n",
       "        text-align: right;\n",
       "    }\n",
       "</style>\n",
       "<table border=\"1\" class=\"dataframe\">\n",
       "  <thead>\n",
       "    <tr style=\"text-align: right;\">\n",
       "      <th></th>\n",
       "      <th>t</th>\n",
       "      <th>q1</th>\n",
       "      <th>q2</th>\n",
       "      <th>q3</th>\n",
       "      <th>dq1</th>\n",
       "      <th>dq2</th>\n",
       "      <th>dq3</th>\n",
       "      <th>I1</th>\n",
       "      <th>I2</th>\n",
       "      <th>I3</th>\n",
       "      <th>eps21</th>\n",
       "      <th>eps22</th>\n",
       "      <th>eps31</th>\n",
       "      <th>eps32</th>\n",
       "      <th>ddq1</th>\n",
       "      <th>ddq2</th>\n",
       "      <th>ddq3</th>\n",
       "    </tr>\n",
       "  </thead>\n",
       "  <tbody>\n",
       "    <tr>\n",
       "      <th>0</th>\n",
       "      <td>0.00</td>\n",
       "      <td>-0.000007</td>\n",
       "      <td>1.9024</td>\n",
       "      <td>0.26063</td>\n",
       "      <td>-0.000364</td>\n",
       "      <td>4.940656e-321</td>\n",
       "      <td>0.012596</td>\n",
       "      <td>-0.096928</td>\n",
       "      <td>-0.15134</td>\n",
       "      <td>-0.017005</td>\n",
       "      <td>-130.83</td>\n",
       "      <td>-41.856</td>\n",
       "      <td>-6.3635</td>\n",
       "      <td>5.13410</td>\n",
       "      <td>-0.045712</td>\n",
       "      <td>6.210306e-319</td>\n",
       "      <td>1.582900</td>\n",
       "    </tr>\n",
       "    <tr>\n",
       "      <th>1</th>\n",
       "      <td>0.01</td>\n",
       "      <td>0.000013</td>\n",
       "      <td>1.9024</td>\n",
       "      <td>0.26073</td>\n",
       "      <td>0.000739</td>\n",
       "      <td>4.940656e-321</td>\n",
       "      <td>0.012095</td>\n",
       "      <td>-0.028908</td>\n",
       "      <td>-0.11903</td>\n",
       "      <td>-0.020406</td>\n",
       "      <td>-138.18</td>\n",
       "      <td>-51.100</td>\n",
       "      <td>-14.6590</td>\n",
       "      <td>-5.05820</td>\n",
       "      <td>0.125580</td>\n",
       "      <td>1.766878e-319</td>\n",
       "      <td>0.414660</td>\n",
       "    </tr>\n",
       "    <tr>\n",
       "      <th>2</th>\n",
       "      <td>0.02</td>\n",
       "      <td>-0.000007</td>\n",
       "      <td>1.9024</td>\n",
       "      <td>0.26086</td>\n",
       "      <td>-0.000580</td>\n",
       "      <td>4.940656e-321</td>\n",
       "      <td>0.011596</td>\n",
       "      <td>-0.059517</td>\n",
       "      <td>-0.13944</td>\n",
       "      <td>-0.047614</td>\n",
       "      <td>-139.36</td>\n",
       "      <td>-51.812</td>\n",
       "      <td>-14.6590</td>\n",
       "      <td>-5.29520</td>\n",
       "      <td>-0.130080</td>\n",
       "      <td>4.990557e-320</td>\n",
       "      <td>0.082286</td>\n",
       "    </tr>\n",
       "    <tr>\n",
       "      <th>3</th>\n",
       "      <td>0.03</td>\n",
       "      <td>0.000013</td>\n",
       "      <td>1.9024</td>\n",
       "      <td>0.26099</td>\n",
       "      <td>0.001409</td>\n",
       "      <td>4.940656e-321</td>\n",
       "      <td>0.013933</td>\n",
       "      <td>-0.079923</td>\n",
       "      <td>-0.15304</td>\n",
       "      <td>-0.023807</td>\n",
       "      <td>-135.57</td>\n",
       "      <td>-48.019</td>\n",
       "      <td>-11.3410</td>\n",
       "      <td>-0.79168</td>\n",
       "      <td>0.213010</td>\n",
       "      <td>1.394253e-320</td>\n",
       "      <td>0.190650</td>\n",
       "    </tr>\n",
       "    <tr>\n",
       "      <th>4</th>\n",
       "      <td>0.04</td>\n",
       "      <td>-0.000007</td>\n",
       "      <td>1.9024</td>\n",
       "      <td>0.26110</td>\n",
       "      <td>-0.001273</td>\n",
       "      <td>4.940656e-321</td>\n",
       "      <td>0.010793</td>\n",
       "      <td>-0.025507</td>\n",
       "      <td>-0.12924</td>\n",
       "      <td>-0.006802</td>\n",
       "      <td>-135.81</td>\n",
       "      <td>-49.204</td>\n",
       "      <td>-12.0520</td>\n",
       "      <td>-2.21390</td>\n",
       "      <td>-0.276490</td>\n",
       "      <td>3.581976e-321</td>\n",
       "      <td>-0.170400</td>\n",
       "    </tr>\n",
       "    <tr>\n",
       "      <th>5</th>\n",
       "      <td>0.05</td>\n",
       "      <td>-0.000007</td>\n",
       "      <td>1.9024</td>\n",
       "      <td>0.26124</td>\n",
       "      <td>0.001928</td>\n",
       "      <td>4.940656e-321</td>\n",
       "      <td>0.011915</td>\n",
       "      <td>-0.083324</td>\n",
       "      <td>-0.14964</td>\n",
       "      <td>-0.034010</td>\n",
       "      <td>-139.60</td>\n",
       "      <td>-53.471</td>\n",
       "      <td>-16.0820</td>\n",
       "      <td>-6.95450</td>\n",
       "      <td>0.323560</td>\n",
       "      <td>1.141292e-321</td>\n",
       "      <td>0.031745</td>\n",
       "    </tr>\n",
       "  </tbody>\n",
       "</table>\n",
       "</div>"
      ],
      "text/plain": [
       "      t        q1      q2       q3       dq1            dq2       dq3  \\\n",
       "0  0.00 -0.000007  1.9024  0.26063 -0.000364  4.940656e-321  0.012596   \n",
       "1  0.01  0.000013  1.9024  0.26073  0.000739  4.940656e-321  0.012095   \n",
       "2  0.02 -0.000007  1.9024  0.26086 -0.000580  4.940656e-321  0.011596   \n",
       "3  0.03  0.000013  1.9024  0.26099  0.001409  4.940656e-321  0.013933   \n",
       "4  0.04 -0.000007  1.9024  0.26110 -0.001273  4.940656e-321  0.010793   \n",
       "5  0.05 -0.000007  1.9024  0.26124  0.001928  4.940656e-321  0.011915   \n",
       "\n",
       "         I1       I2        I3   eps21   eps22    eps31    eps32      ddq1  \\\n",
       "0 -0.096928 -0.15134 -0.017005 -130.83 -41.856  -6.3635  5.13410 -0.045712   \n",
       "1 -0.028908 -0.11903 -0.020406 -138.18 -51.100 -14.6590 -5.05820  0.125580   \n",
       "2 -0.059517 -0.13944 -0.047614 -139.36 -51.812 -14.6590 -5.29520 -0.130080   \n",
       "3 -0.079923 -0.15304 -0.023807 -135.57 -48.019 -11.3410 -0.79168  0.213010   \n",
       "4 -0.025507 -0.12924 -0.006802 -135.81 -49.204 -12.0520 -2.21390 -0.276490   \n",
       "5 -0.083324 -0.14964 -0.034010 -139.60 -53.471 -16.0820 -6.95450  0.323560   \n",
       "\n",
       "            ddq2      ddq3  \n",
       "0  6.210306e-319  1.582900  \n",
       "1  1.766878e-319  0.414660  \n",
       "2  4.990557e-320  0.082286  \n",
       "3  1.394253e-320  0.190650  \n",
       "4  3.581976e-321 -0.170400  \n",
       "5  1.141292e-321  0.031745  "
      ]
     },
     "execution_count": 24,
     "metadata": {},
     "output_type": "execute_result"
    }
   ],
   "source": [
    "dft.head(6)"
   ]
  },
  {
   "cell_type": "code",
   "execution_count": 32,
   "metadata": {
    "collapsed": true
   },
   "outputs": [],
   "source": [
    "X_test=dft[['q2','dq2','eps21', 'eps22', 'eps31', 'eps32','ddq2']]\n",
    "Y_test=np.array(dft['I2'])"
   ]
  },
  {
   "cell_type": "code",
   "execution_count": 33,
   "metadata": {},
   "outputs": [
    {
     "name": "stdout",
     "output_type": "stream",
     "text": [
      "          q2            dq2   eps21   eps22    eps31     eps32           ddq2\n",
      "0     1.9024  4.940656e-321 -130.83 -41.856  -6.3635   5.13410  6.210306e-319\n",
      "1     1.9024  4.940656e-321 -138.18 -51.100 -14.6590  -5.05820  1.766878e-319\n",
      "2     1.9024  4.940656e-321 -139.36 -51.812 -14.6590  -5.29520  4.990557e-320\n",
      "3     1.9024  4.940656e-321 -135.57 -48.019 -11.3410  -0.79168  1.394253e-320\n",
      "4     1.9024  4.940656e-321 -135.81 -49.204 -12.0520  -2.21390  3.581976e-321\n",
      "5     1.9024  4.940656e-321 -139.60 -53.471 -16.0820  -6.95450  1.141292e-321\n",
      "6     1.9024  4.940656e-321 -133.44 -45.412  -9.4448   1.10460 -7.905050e-323\n",
      "7     1.9024  4.940656e-321 -134.86 -46.360 -10.8670  -0.55465 -7.905050e-323\n",
      "8     1.9024  4.940656e-321 -135.33 -47.782 -10.8670  -1.26570 -7.905050e-323\n",
      "9     1.9024  4.940656e-321 -132.73 -43.515  -8.2597   2.76380 -7.905050e-323\n",
      "10    1.9024  4.940656e-321 -138.89 -51.812 -14.4220  -5.53230 -7.905050e-323\n",
      "11    1.9024  4.940656e-321 -136.04 -48.256 -11.8150  -1.97680 -7.905050e-323\n",
      "12    1.9024  4.940656e-321 -137.23 -50.389 -13.4740  -3.16200 -7.905050e-323\n",
      "13    1.9024  4.940656e-321 -136.52 -49.204 -12.5260  -2.21390 -7.905050e-323\n",
      "14    1.9024  4.940656e-321 -133.20 -44.938  -8.7338   2.05270 -7.905050e-323\n",
      "15    1.9024  4.940656e-321 -136.04 -48.493 -12.0520  -1.73980 -7.905050e-323\n",
      "16    1.9024  4.940656e-321 -135.57 -47.545 -10.6300  -1.26570 -7.905050e-323\n",
      "17    1.9024  4.940656e-321 -135.33 -47.782 -11.3410  -2.21390 -7.905050e-323\n",
      "18    1.9024  4.940656e-321 -135.33 -47.545 -11.1040  -0.55465 -7.905050e-323\n",
      "19    1.9024  4.940656e-321 -136.52 -49.204 -12.7630  -2.92490 -7.905050e-323\n",
      "20    1.9024  4.940656e-321 -136.04 -48.256 -12.0520  -1.73980 -7.905050e-323\n",
      "21    1.9024  4.940656e-321 -137.47 -49.915 -12.7630  -3.16200 -7.905050e-323\n",
      "22    1.9024  4.940656e-321 -135.10 -47.782 -10.8670  -0.79168 -7.905050e-323\n",
      "23    1.9024  4.940656e-321 -133.44 -43.990  -9.2078   2.05270 -7.905050e-323\n",
      "24    1.9024  4.940656e-321 -135.10 -46.597 -10.6300  -0.08059 -7.905050e-323\n",
      "25    1.9024  4.940656e-321 -136.99 -49.678 -12.7630  -2.92490 -7.905050e-323\n",
      "26    1.9024  4.940656e-321 -133.44 -46.123 -10.6300   0.39347 -7.905050e-323\n",
      "27    1.9024  4.940656e-321 -139.13 -52.049 -14.4220  -4.58420 -7.905050e-323\n",
      "28    1.9024  4.940656e-321 -135.33 -47.308 -10.3930   0.15644 -7.905050e-323\n",
      "29    1.9024  4.940656e-321 -137.23 -49.678 -12.5260  -2.68790 -7.905050e-323\n",
      "...      ...            ...     ...     ...      ...       ...            ...\n",
      "7970  1.9375 -5.174100e-128 -148.84 -56.078 -13.9480  -2.21390   5.542400e-33\n",
      "7971  1.9375 -3.472500e-130 -137.70 -56.552 -21.5330  -3.87310   1.577400e-33\n",
      "7972  1.9375 -2.330400e-132 -136.04 -62.478 -31.4890 -10.27300   4.489500e-34\n",
      "7973  1.9375  -2.854700e-03 -133.20 -55.841 -24.3780  -4.34710  -2.042200e-01\n",
      "7974  1.9375  -1.915800e-05 -139.13 -54.419 -17.9780  -4.58420   1.447300e-01\n",
      "7975  1.9375  -1.285800e-07 -140.07 -49.204 -10.1560  -0.08059   4.255200e-02\n",
      "7976  1.9375  -8.628900e-10 -143.15 -56.315 -17.0300  -7.19150   1.212000e-02\n",
      "7977  1.9375  -5.791000e-12 -135.81 -53.234 -18.2150  -3.16200   3.449500e-03\n",
      "7978  1.9375  -3.886500e-14 -131.30 -52.997 -21.5330  -2.21390   9.817600e-04\n",
      "7979  1.9375  -1.104000e-04 -138.65 -58.685 -24.8520  -5.53230  -7.618700e-03\n",
      "7980  1.9375  -7.409300e-07 -146.71 -58.685 -20.5850  -4.34710   5.676700e-03\n",
      "7981  1.9375  -4.972500e-09 -151.45 -54.419 -12.5260   2.52670   1.668300e-03\n",
      "7982  1.9375  -3.337200e-11 -162.35 -63.663 -16.7930  -4.11010   4.751700e-04\n",
      "7983  1.9375  -2.239600e-13 -161.88 -65.085 -18.9260  -2.92490   1.352400e-04\n",
      "7984  1.9375  -1.503100e-15 -161.88 -69.352 -24.8520  -5.53230   3.849100e-05\n",
      "7985  1.9375  -1.008700e-17 -166.15 -74.092 -27.6960  -8.13960   1.095500e-05\n",
      "7986  1.9375  -6.769800e-20 -171.12 -72.670 -24.1410  -5.29520   3.117800e-06\n",
      "7987  1.9375  -4.543300e-22 -176.58 -70.537 -17.2670  -1.26570   8.873700e-07\n",
      "7988  1.9375  -3.049100e-24 -181.32 -71.959 -16.5560  -1.73980   2.525500e-07\n",
      "7989  1.9375  -2.046300e-26 -182.74 -74.092 -17.5040  -2.21390   7.187900e-08\n",
      "7990  1.9375  -1.373300e-28 -183.45 -78.833 -23.9040  -6.24340   2.045700e-08\n",
      "7991  1.9375  -9.216600e-31 -179.42 -79.070 -26.7480  -6.48040   5.822400e-09\n",
      "7992  1.9375  -6.185400e-33 -179.18 -78.359 -27.2220  -6.24340   1.657100e-09\n",
      "7993  1.9375  -4.151200e-35 -178.95 -75.515 -23.4300  -5.29520   4.716300e-10\n",
      "7994  1.9375  -2.785900e-37 -173.02 -66.270 -14.4220   2.05270   1.342300e-10\n",
      "7995  1.9375  -1.869700e-39 -173.26 -67.456 -15.3710  -0.79168   3.820300e-11\n",
      "7996  1.9375  -1.254800e-41 -168.75 -67.218 -17.9780  -2.45090   1.087300e-11\n",
      "7997  1.9375  -8.421000e-44 -163.78 -66.981 -20.1110  -2.92490   3.094600e-12\n",
      "7998  1.9375  -5.651500e-46 -161.88 -71.011 -27.4590 -10.03600   8.807400e-13\n",
      "7999  1.9375  -3.792800e-48 -155.48 -66.981 -24.8520  -6.24340   2.506700e-13\n",
      "\n",
      "[8000 rows x 7 columns]\n"
     ]
    }
   ],
   "source": [
    "print(X_test)"
   ]
  },
  {
   "cell_type": "code",
   "execution_count": 34,
   "metadata": {},
   "outputs": [
    {
     "name": "stdout",
     "output_type": "stream",
     "text": [
      "[-0.15134 -0.11903 -0.13944 ... -0.28738 -0.29929 -0.3469 ]\n"
     ]
    }
   ],
   "source": [
    "print(Y_test)"
   ]
  },
  {
   "cell_type": "code",
   "execution_count": 35,
   "metadata": {},
   "outputs": [
    {
     "name": "stdout",
     "output_type": "stream",
     "text": [
      "RSS per sample = 0.126780\n",
      "R^2 =            0.873220\n"
     ]
    }
   ],
   "source": [
    "Y_test_pred = regr.predict(X_test)\n",
    "RSS_test = np.mean((Y_test_pred-Y_test)**2)/(np.std(Y_test)**2)\n",
    "Rsq_test = 1-RSS_test\n",
    "print(\"RSS per sample = {0:f}\".format(RSS_test))\n",
    "print(\"R^2 =            {0:f}\".format(Rsq_test))"
   ]
  },
  {
   "cell_type": "code",
   "execution_count": 36,
   "metadata": {},
   "outputs": [
    {
     "data": {
      "image/png": "[encoded data removed]",
      "text/plain": [
       "<Figure size 432x288 with 1 Axes>"
      ]
     },
     "metadata": {
      "needs_background": "light"
     },
     "output_type": "display_data"
    }
   ],
   "source": [
    "\n",
    "plt.scatter(Y_test,Y_test_pred)\n",
    "plt.plot([-1,1],[-1,1],'r')\n",
    "plt.xlabel('Actual')\n",
    "plt.xlabel('Predicted')\n",
    "plt.grid()"
   ]
  },
  {
   "cell_type": "code",
   "execution_count": null,
   "metadata": {
    "collapsed": true
   },
   "outputs": [],
   "source": []
  }
 ],
 "metadata": {
  "kernelspec": {
   "display_name": "Python 3",
   "language": "python",
   "name": "python3"
  },
  "language_info": {
   "codemirror_mode": {
    "name": "ipython",
    "version": 3
   },
   "file_extension": ".py",
   "mimetype": "text/x-python",
   "name": "python",
   "nbconvert_exporter": "python",
   "pygments_lexer": "ipython3",
   "version": "3.6.8"
  }
 },
 "nbformat": 4,
 "nbformat_minor": 2
}
