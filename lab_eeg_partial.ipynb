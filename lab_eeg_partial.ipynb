{
 "cells": [
  {
   "cell_type": "markdown",
   "metadata": {},
   "source": [
    "# Lab:  Source Localization for EEG\n",
    "\n",
    "EEG or [Electroencephalography](https://en.wikipedia.org/wiki/Electroencephalography) is a powerful tool for neuroscientists in understanding brain activity.  In EEG, a patient wears a headset with electrodes that measures voltages at a number of points on the scalp.  These voltages arise from ionic currents within the brain.  A common *inverse problem* is to estimate the which parts of the brain caused the measured response.  Source localization is useful in understanding which parts of the brain are involved in certain tasks.  A key challenge in this inverse problem is that the number of unknowns (possible locations in the brain) is much larger than the number of measurements.  In this lab, we will use LASSO regression on a real EEG dataset to overcome this problem and determine the brain region that is active under an auditory stimulus.\n",
    "\n",
    "In addition to the concepts in the [prostate LASSO demo](./demo_prostate.ipynb) you will learn to:\n",
    "* Represent responses of multi-channel time-series data, such as EEG, using linear models\n",
    "* Perform LASSO and Ridge regression\n",
    "* Select the regularization level via cross-validation\n",
    "* Visually compare the sparsity between the solutions\n",
    "\n",
    "We first download standard packages."
   ]
  },
  {
   "cell_type": "code",
   "execution_count": 1,
   "metadata": {
    "collapsed": true
   },
   "outputs": [],
   "source": [
    "import numpy as np\n",
    "import matplotlib.pyplot as plt\n",
    "import pickle\n",
    "\n",
    "from sklearn.linear_model import Lasso, Ridge, ElasticNet\n",
    "from sklearn.metrics import r2_score\n",
    "from sklearn.model_selection import train_test_split"
   ]
  },
  {
   "cell_type": "markdown",
   "metadata": {},
   "source": [
    "## Load the Data\n",
    "\n",
    "The data in this lab is taken from one of the sample datasets in the [MNE website](https://martinos.org/mne/stable/index.html). The sample data is a recording from one subject who experienced some auditory stimulus on the left ear.    \n",
    "\n",
    "The raw data is very large (`1.5G`) and also requires that you install the `mne` python package. To make this lab easier, I have extracted and processed a small section of the data. The following command will download a `pickle` file `eeg_dat.p` to your local machine.  If you do want to create the data yourself, the program to create the data is in this directory in the github repository."
   ]
  },
  {
   "cell_type": "code",
   "execution_count": 2,
   "metadata": {},
   "outputs": [
    {
     "name": "stdout",
     "output_type": "stream",
     "text": [
      "File eeg_dat.p is already downloaded\n"
     ]
    }
   ],
   "source": [
    "fn_src ='https://drive.google.com/uc?export=download&id=1RzQpKONOcXSMxH2ZzOI4iVMiTgD6ttSl'\n",
    "fn_dst ='eeg_dat.p'\n",
    "\n",
    "import os\n",
    "from six.moves import urllib\n",
    "\n",
    "if os.path.isfile(fn_dst):\n",
    "    print('File %s is already downloaded' % fn_dst)\n",
    "else:        \n",
    "    print('Fetching file %s [53MB].  This may take a minute..' % fn_dst)\n",
    "    urllib.request.urlretrieve(fn_src, fn_dst)\n",
    "    print('File %s downloaded' % fn_dst)"
   ]
  },
  {
   "cell_type": "markdown",
   "metadata": {},
   "source": [
    "Now run the following command which will get the data from the `pickle` file."
   ]
  },
  {
   "cell_type": "code",
   "execution_count": 3,
   "metadata": {
    "collapsed": true
   },
   "outputs": [],
   "source": [
    "import pickle\n",
    "fn = 'eeg_dat.p'\n",
    "with open(fn, 'rb') as fp:\n",
    "    [X,Y] = pickle.load(fp)\n"
   ]
  },
  {
   "cell_type": "markdown",
   "metadata": {},
   "source": [
    "To understand the data, there are three key variables:\n",
    "* `nt`    = number of time steps that we measure data\n",
    "* `nchan` = number of channels (i.e. electrodes) measured in each time step\n",
    "* `ncur`  = number of currents in the brain that we want to estimate.  \n",
    "\n",
    "Each current comes from one brain region (called a *voxel*) in either the `x`, `y` or `z` direction.  So,\n",
    "\n",
    "    nvoxels = ncur / 3\n",
    "    \n",
    "The components of the `X` and `Y` matrices are:\n",
    "*  `Y[i,k]` = electric field measurement on channel `i` at time `k`\n",
    "*  `X[i,j]` = sensitivity of channel `i` to current `j`.\n",
    "\n",
    "Using `X.shape` and `Y.shape` compute and print `nt`, `nchan`, `ncur` and `nvoxels`."
   ]
  },
  {
   "cell_type": "code",
   "execution_count": 4,
   "metadata": {
    "collapsed": true
   },
   "outputs": [],
   "source": [
    "# TODO\n",
    "# nt = ...\n",
    "# ncur = ...\n",
    "# nchan = ...\n",
    "# nvoxels\n",
    "nchan,nt=Y.shape\n",
    "nchan1,ncur=X.shape\n",
    "nvoxels=ncur//3\n"
   ]
  },
  {
   "cell_type": "markdown",
   "metadata": {},
   "source": [
    "## Ridge Regression\n",
    "\n",
    "Our goal is to estimate the currents in the brain from the measurements `Y`.  One simple linear model is:\n",
    "\n",
    "    Y[i,k]  = \\sum_j X[i,j]*W[j,k]+ b[k]\n",
    "\n",
    "where `W[j,k]` is the value of current `j` at time `k` and `b[k]` is a bias.  We can solve for the current matrix `W` via linear regression.  \n",
    "\n",
    "Howeever, there is a problem:\n",
    "*  There are `nt x ncur` unknowns in `W`\n",
    "*  There are only `nt x nchan` measurements in `Y`.\n",
    "\n",
    "In this problem, we have:\n",
    "\n",
    "    number of measurements  << number of unknowns\n",
    "    \n",
    "We need to use regularization in these circumstances.  We first try Ridge regression.\n",
    "\n",
    "First split the data into training and test.  Use the `train_test_split` function with `test_size=0.33`."
   ]
  },
  {
   "cell_type": "code",
   "execution_count": 6,
   "metadata": {
    "collapsed": true
   },
   "outputs": [],
   "source": [
    "# TODO\n",
    "Xtr,Xts,Ytr,Yts = train_test_split(X,Y,test_size=0.33) "
   ]
  },
  {
   "cell_type": "markdown",
   "metadata": {},
   "source": [
    "Use the `Ridge` regression object in `sklearn` to fit the model on the training data.  Use a regularization, `alpha=1`."
   ]
  },
  {
   "cell_type": "code",
   "execution_count": 7,
   "metadata": {
    "collapsed": true
   },
   "outputs": [],
   "source": [
    "# TODO\n",
    "regr = Ridge(alpha=1)"
   ]
  },
  {
   "cell_type": "markdown",
   "metadata": {},
   "source": [
    "Preict the values `Y` on both the training and test data.  Use the `r2_score` method to measure the `R^2` value on both the training and test.  You will see that `R^2` value is large for the training data, it is very low for the test data.  This suggest that even with regularization, the model is over-fitting the data."
   ]
  },
  {
   "cell_type": "code",
   "execution_count": 8,
   "metadata": {},
   "outputs": [
    {
     "name": "stdout",
     "output_type": "stream",
     "text": [
      "0.592236276275408\n",
      "0.19746675362310034\n"
     ]
    }
   ],
   "source": [
    "# TODO\n",
    "regr.fit(Xtr,Ytr)\n",
    "Ytrpr=regr.predict(Xtr)\n",
    "Ytspr=regr.predict(Xts)\n",
    "rsq_tr=r2_score(Ytr,Ytrpr)\n",
    "rsq_ts=r2_score(Yts,Ytspr)\n",
    "print(rsq_tr)\n",
    "print(rsq_ts)"
   ]
  },
  {
   "cell_type": "markdown",
   "metadata": {},
   "source": [
    "Next, try to see if we can get a better `R^2` score using different values of `alpha`.  Use cross-validation to measure the test `R^2` for 20 `alpha` values logarithmically spaced from `10^{-2}` to `10^{2}` (use `np.logspace()`).  You can use regular cross-validation.  You do not need to do `K`-fold."
   ]
  },
  {
   "cell_type": "code",
   "execution_count": 11,
   "metadata": {},
   "outputs": [
    {
     "name": "stdout",
     "output_type": "stream",
     "text": [
      "[-0.08060216 -0.01178677  0.04738434  0.09877578  0.14359871  0.18176998\n",
      "  0.2111382   0.22776716  0.2279861   0.2112075   0.18115044  0.14423216\n",
      "  0.10672319  0.07294946  0.04503226  0.02341776  0.00754307 -0.00361867\n",
      " -0.01118989 -0.01618039]\n",
      "[1.00000000e-02 1.62377674e-02 2.63665090e-02 4.28133240e-02\n",
      " 6.95192796e-02 1.12883789e-01 1.83298071e-01 2.97635144e-01\n",
      " 4.83293024e-01 7.84759970e-01 1.27427499e+00 2.06913808e+00\n",
      " 3.35981829e+00 5.45559478e+00 8.85866790e+00 1.43844989e+01\n",
      " 2.33572147e+01 3.79269019e+01 6.15848211e+01 1.00000000e+02]\n"
     ]
    }
   ],
   "source": [
    "# TODO\n",
    "alpha1=np.logspace(-2,2,20)\n",
    "rsq_ts1=np.zeros(20)\n",
    "c=len(rsq_ts1)\n",
    "for k in range(c):\n",
    "        alpha2=alpha1[k]\n",
    "        regr = Ridge(alpha=alpha2)\n",
    "        regr.fit(Xtr,Ytr)\n",
    "        Ytspr=regr.predict(Xts)\n",
    "        rsq_ts1[k]=r2_score(Yts,Ytspr)  \n",
    "print(rsq_ts1)\n",
    "print(alpha1)"
   ]
  },
  {
   "cell_type": "markdown",
   "metadata": {},
   "source": [
    "Plot the test `R^2` vs. `alpha`.  And print the maximum test `R^2`.  You should see that the maximum test `R^2` is still not very high."
   ]
  },
  {
   "cell_type": "code",
   "execution_count": 12,
   "metadata": {},
   "outputs": [
    {
     "data": {
      "text/plain": [
       "<matplotlib.collections.PathCollection at 0x1fb000c8400>"
      ]
     },
     "execution_count": 12,
     "metadata": {},
     "output_type": "execute_result"
    },
    {
     "data": {
      "image/png": "[encoded data removed]",
      "text/plain": [
       "<Figure size 432x288 with 1 Axes>"
      ]
     },
     "metadata": {
      "needs_background": "light"
     },
     "output_type": "display_data"
    }
   ],
   "source": [
    "# TODO\n",
    "plt.scatter(alpha1,rsq_ts1)"
   ]
  },
  {
   "cell_type": "markdown",
   "metadata": {},
   "source": [
    "Now, let's take a look at the solution. \n",
    "\n",
    "* Find the optimal regularization `alpha` from the cross-validation\n",
    "* Re-fit the model at the optimal `alpha`\n",
    "* Get the current matrix `W` from the coefficients in the linear model.  These are stored in `regr.coef_`.  You may need a transpose\n",
    "* For each current `j` compute `Wrms[j] =  sqrt( sum_k W[j,k]**2 )` which is root mean squared current.\n",
    "\n",
    "You will see that the vector `Wrms` is not sparse.  This means that the solution that is found with Ridge regression finds currents in all locations."
   ]
  },
  {
   "cell_type": "code",
   "execution_count": 77,
   "metadata": {},
   "outputs": [
    {
     "name": "stdout",
     "output_type": "stream",
     "text": [
      "[0.2700145  0.16116804 0.23841194 ... 0.03203088 0.04874821 0.07553783]\n"
     ]
    }
   ],
   "source": [
    "# TODO\n",
    "alpha_opt=alpha1[7]\n",
    "regr_opt = Ridge(alpha=alpha_opt)\n",
    "regr_opt.fit(Xtr,Ytr)\n",
    "Yts_opt=regr_opt.predict(Xts)\n",
    "W=regr_opt.coef_\n",
    "W_sqrt=np.square(W)\n",
    "W_sum=np.sum(W_sqrt,axis=0)\n",
    "Wrms=np.sqrt(W_sum)\n",
    "print(Wrms)"
   ]
  },
  {
   "cell_type": "markdown",
   "metadata": {},
   "source": [
    "## LASSO Regression\n",
    "\n",
    "We can improve the estimate by imposing sparsity.  Biologically, we know that only a limited number of brain regions should be involved in the reponse to a particular stimuli.  As a result, we would expect that the current matrix `W[j,k]` to be zero for most values `j,k`.  We can impose this constraint using LASSO regularization.\n",
    "\n",
    "Re-fit the training data using the `Lasso` model with `alpha=1e-3`.  Also set `max_iter=100` and `tol=0.01`.  The LASSO solver is much slower, so this make take a minute."
   ]
  },
  {
   "cell_type": "code",
   "execution_count": 68,
   "metadata": {
    "collapsed": true
   },
   "outputs": [],
   "source": [
    "# TODO\n",
    "model=Lasso(alpha=1e-3,max_iter=100,tol=0.01)\n",
    "model.fit(Xtr,Ytr)\n",
    "Ytrpr=model.predict(Xtr)\n",
    "Ytspr=model.predict(Xts)"
   ]
  },
  {
   "cell_type": "markdown",
   "metadata": {},
   "source": [
    "Now, test the model on the test data and measure the `R^2` value.  You should get a much better fit than with the Ridge regression solution.  "
   ]
  },
  {
   "cell_type": "code",
   "execution_count": 69,
   "metadata": {},
   "outputs": [
    {
     "name": "stdout",
     "output_type": "stream",
     "text": [
      "0.2331969638960014\n",
      "0.20026268501305589\n"
     ]
    }
   ],
   "source": [
    "# TODO\n",
    "rsq_tr=r2_score(Ytr,Ytrpr)\n",
    "rsq_ts=r2_score(Yts,Ytspr)\n",
    "print(rsq_tr)\n",
    "print(rsq_ts)"
   ]
  },
  {
   "cell_type": "markdown",
   "metadata": {},
   "source": [
    "We can now search for the optimal `alpha`.  Use cross-validation to find the `alpha` logarithically space between `alpha=10^{-3}` and `alpha=10^{-4}`.  Each fit takes some time, so use only 5 values of `alpha`. Also for each `alpha` store the current matrix.  This way, you will not have to re-fit the model."
   ]
  },
  {
   "cell_type": "code",
   "execution_count": 70,
   "metadata": {
    "collapsed": true
   },
   "outputs": [],
   "source": [
    "# TODO\n",
    "alpha_lasso=np.logspace(-3,-4,5)\n",
    "rsq_ts_lasso=[]\n",
    "for i,alpha in enumerate(alpha_lasso):\n",
    "             lasso=Lasso(alpha=alpha,max_iter=100,tol=0.01)\n",
    "             Y_pred_lasso=lasso.fit(Xtr,Ytr).predict(Xts)\n",
    "             rsq_ts_lasso.append(1-np.mean((Y_pred_lasso)**2)/(np.std(Yts)**2))"
   ]
  },
  {
   "cell_type": "markdown",
   "metadata": {},
   "source": [
    "Plot the `r^2` value vs. `alpha`.  Print the optimal `r^2`.  You should see it is much higher than with the best Ridge Regression case."
   ]
  },
  {
   "cell_type": "code",
   "execution_count": 71,
   "metadata": {},
   "outputs": [
    {
     "data": {
      "image/png": "[encoded data removed]",
      "text/plain": [
       "<Figure size 720x360 with 1 Axes>"
      ]
     },
     "metadata": {
      "needs_background": "light"
     },
     "output_type": "display_data"
    }
   ],
   "source": [
    "# TODO\n",
    "plt.figure(figsize=(10,5))\n",
    "plt.plot(alpha_lasso,rsq_ts_lasso,'b',linewidth=2)\n",
    "plt.xlabel('alpha_lasso')\n",
    "plt.ylabel('RSS')\n",
    "plt.show()"
   ]
  },
  {
   "cell_type": "markdown",
   "metadata": {},
   "source": [
    "Display the current matrix `W` for the optimal `alpha` as you did in the Ridge Regression case.  You will see that is much sparser."
   ]
  },
  {
   "cell_type": "code",
   "execution_count": 76,
   "metadata": {},
   "outputs": [
    {
     "name": "stdout",
     "output_type": "stream",
     "text": [
      "[0.71652633 0.         0.97071207 ... 0.         0.         0.        ]\n"
     ]
    }
   ],
   "source": [
    "# TODO\n",
    "alpha_lasso_opt=alpha_lasso[4]\n",
    "regr_lasso_opt = Lasso(alpha=alpha_lasso_opt,max_iter=100,tol=0.01)\n",
    "regr_lasso_opt.fit(Xtr,Ytr)\n",
    "Yts_lasso_opt=regr_lasso_opt.predict(Xts)\n",
    "W_lasso=regr_lasso_opt.coef_\n",
    "W_lasso_sqrt=np.square(W_lasso)\n",
    "W_lasso_sum=np.sum(W_lasso_sqrt,axis=0)\n",
    "Wrms_lasso=np.sqrt(W_lasso_sum)\n",
    "print(Wrms_lasso)"
   ]
  },
  {
   "cell_type": "markdown",
   "metadata": {},
   "source": [
    "## More fun\n",
    "\n",
    "If you want to more on this lab:\n",
    "* Install the [MNE python package](https://martinos.org/mne/stable/index.html).  This is an amazing package with many tools for processing EEG data.\n",
    "* In particular, you can use the above results to visualize where in the brain the currents sources are.\n",
    "* You can also improve the fitting with more regularization.  For example, we know that the currents will be non-zero in groups:  If the current is non-zero for one time, it is likely to non-zero for all time.  You can use the Group LASSO method.\n",
    "* You can combine these results to make predictions about what the patient is seeing or hearing or thinking."
   ]
  },
  {
   "cell_type": "code",
   "execution_count": null,
   "metadata": {
    "collapsed": true
   },
   "outputs": [],
   "source": []
  }
 ],
 "metadata": {
  "kernelspec": {
   "display_name": "Python 3",
   "language": "python",
   "name": "python3"
  },
  "language_info": {
   "codemirror_mode": {
    "name": "ipython",
    "version": 3
   },
   "file_extension": ".py",
   "mimetype": "text/x-python",
   "name": "python",
   "nbconvert_exporter": "python",
   "pygments_lexer": "ipython3",
   "version": "3.6.8"
  }
 },
 "nbformat": 4,
 "nbformat_minor": 2
}
