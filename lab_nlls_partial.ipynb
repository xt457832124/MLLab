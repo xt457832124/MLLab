{
 "cells": [
  {
   "cell_type": "markdown",
   "metadata": {},
   "source": [
    "# Lab:  Nonlinear Least Squares for Modeling Materials\n",
    "\n",
    "Nonlinear least squares (NLLS) is a widely-used method for modeling data.  In NLLS, we wish to fit a model of the form,\n",
    "\n",
    "     yhat = g(x,w)\n",
    "     \n",
    "where `w` is a vector of paramters and `x` is the vector of predictors.  We find `w` by minimizing a least-squares function \n",
    "\n",
    "     f(w) = \\sum_i (y_i - g(x_i,w))^2\n",
    "     \n",
    "where the summation is over training samples `(x_i,y_i)`.  This is similar to linear least-squares, but the function `g(x,w)` may not be linear in `w`.  In general, this optimization has no closed-form expression.  So numerical optimization must be used.  \n",
    "\n",
    "In this lab, we will implement gradient descent on NLLS in a problem of physical modeling of materials.  Specifically, we will estimate parameters for expansion of copper as a function of temperature using a real dataset.  In doing this lab, you will learn to:\n",
    "* Set up a nonlinear least squares as an unconstrained optimization function\n",
    "* Compute initial parameter estimates for a simple rational model\n",
    "* Compute the gradients of the least squares objective\n",
    "* Implement gradient descent for minimizing the objective\n",
    "* Implement momentum gradient descent\n",
    "* Visualize the convergence of the algorithm\n",
    "\n",
    "We first import some key packages."
   ]
  },
  {
   "cell_type": "code",
   "execution_count": 328,
   "metadata": {
    "collapsed": true
   },
   "outputs": [],
   "source": [
    "import pandas as pd\n",
    "import numpy as np\n",
    "import matplotlib.pyplot as plt\n",
    "from sklearn.linear_model import Ridge, LinearRegression"
   ]
  },
  {
   "cell_type": "markdown",
   "metadata": {},
   "source": [
    "## Load the Data\n",
    "\n",
    "The NIST agency has an excellent [nonlinear regression website](https://www.itl.nist.gov/div898/strd/nls/nls_main.shtml) that has several datasets for nonlinear regression problems.  In this lab, we will use the data from a NIST study involving the thermal expansion of copper. The response variable is the coefficient of thermal expansion, and the predictor variable is temperature in degrees kelvin.  \n",
    "\n",
    "> Hahn, T., NIST (1979), Copper Thermal Expansion Study.  (unpublished}\n",
    "\n",
    "You can download the data as follows."
   ]
  },
  {
   "cell_type": "code",
   "execution_count": 329,
   "metadata": {},
   "outputs": [
    {
     "data": {
      "text/html": [
       "<div>\n",
       "<style scoped>\n",
       "    .dataframe tbody tr th:only-of-type {\n",
       "        vertical-align: middle;\n",
       "    }\n",
       "\n",
       "    .dataframe tbody tr th {\n",
       "        vertical-align: top;\n",
       "    }\n",
       "\n",
       "    .dataframe thead th {\n",
       "        text-align: right;\n",
       "    }\n",
       "</style>\n",
       "<table border=\"1\" class=\"dataframe\">\n",
       "  <thead>\n",
       "    <tr style=\"text-align: right;\">\n",
       "      <th></th>\n",
       "      <th>x0</th>\n",
       "      <th>y0</th>\n",
       "      <th>dummy</th>\n",
       "    </tr>\n",
       "  </thead>\n",
       "  <tbody>\n",
       "    <tr>\n",
       "      <th>0</th>\n",
       "      <td>0.591</td>\n",
       "      <td>24.41</td>\n",
       "      <td>NaN</td>\n",
       "    </tr>\n",
       "    <tr>\n",
       "      <th>1</th>\n",
       "      <td>1.547</td>\n",
       "      <td>34.82</td>\n",
       "      <td>NaN</td>\n",
       "    </tr>\n",
       "    <tr>\n",
       "      <th>2</th>\n",
       "      <td>2.902</td>\n",
       "      <td>44.09</td>\n",
       "      <td>NaN</td>\n",
       "    </tr>\n",
       "    <tr>\n",
       "      <th>3</th>\n",
       "      <td>2.894</td>\n",
       "      <td>45.07</td>\n",
       "      <td>NaN</td>\n",
       "    </tr>\n",
       "    <tr>\n",
       "      <th>4</th>\n",
       "      <td>4.703</td>\n",
       "      <td>54.98</td>\n",
       "      <td>NaN</td>\n",
       "    </tr>\n",
       "  </tbody>\n",
       "</table>\n",
       "</div>"
      ],
      "text/plain": [
       "      x0     y0  dummy\n",
       "0  0.591  24.41    NaN\n",
       "1  1.547  34.82    NaN\n",
       "2  2.902  44.09    NaN\n",
       "3  2.894  45.07    NaN\n",
       "4  4.703  54.98    NaN"
      ]
     },
     "execution_count": 329,
     "metadata": {},
     "output_type": "execute_result"
    }
   ],
   "source": [
    "url = 'https://itl.nist.gov/div898/strd/nls/data/LINKS/DATA/Hahn1.dat'\n",
    "df = pd.read_csv(url, skiprows=60, sep=' ',skipinitialspace=True, names=['x0','y0','dummy'])\n",
    "df.head()"
   ]
  },
  {
   "cell_type": "markdown",
   "metadata": {},
   "source": [
    "Extract the `x0` and `y0` into arrays.  Rescale, `x0` and `y0` to values between `0` and `1` by dividing `x0` and `y0` by the maximum value.  Store the scaled values in vectors `x` and `y`.  The rescaling will help with the conditioning of the fitting.  Plot, `y` vs. `x`. "
   ]
  },
  {
   "cell_type": "code",
   "execution_count": 330,
   "metadata": {},
   "outputs": [
    {
     "data": {
      "text/plain": [
       "<matplotlib.collections.PathCollection at 0x2159cddaf28>"
      ]
     },
     "execution_count": 330,
     "metadata": {},
     "output_type": "execute_result"
    },
    {
     "data": {
      "image/png": "[encoded data removed]",
      "text/plain": [
       "<Figure size 432x288 with 1 Axes>"
      ]
     },
     "metadata": {
      "needs_background": "light"
     },
     "output_type": "display_data"
    }
   ],
   "source": [
    "# TODO\n",
    "# x0 = ...\n",
    "# y0 = ...\n",
    "# x = x0/np.max(x0)\n",
    "# y = y0/np.max(y0)\n",
    "# plt.plot(...)\n",
    "x0=np.array(df['x0'])\n",
    "y0=np.array(df['y0'])\n",
    "x=x0/np.max(x0)\n",
    "y=y0/np.max(y0)\n",
    "plt.grid()\n",
    "plt.scatter(x,y)"
   ]
  },
  {
   "cell_type": "markdown",
   "metadata": {},
   "source": [
    "To make the problem a little more challenging, we will add some noise.  Add random Gaussian noise with mean 0 and std. dev = 0.05 to `y`.  Store the noisy results in `yn`. You can use the `np.random.normal()` function to add Gaussian noise. Plot `yn` vs. `x`."
   ]
  },
  {
   "cell_type": "code",
   "execution_count": 331,
   "metadata": {},
   "outputs": [
    {
     "data": {
      "text/plain": [
       "<matplotlib.collections.PathCollection at 0x2159b738dd8>"
      ]
     },
     "execution_count": 331,
     "metadata": {},
     "output_type": "execute_result"
    },
    {
     "data": {
      "image/png": "[encoded data removed]",
      "text/plain": [
       "<Figure size 432x288 with 1 Axes>"
      ]
     },
     "metadata": {
      "needs_background": "light"
     },
     "output_type": "display_data"
    }
   ],
   "source": [
    "# TODO\n",
    "# yn = y + ...\n",
    "yn=y+np.random.normal(loc=0,scale=0.05,size=len(y))\n",
    "plt.grid()\n",
    "plt.scatter(x,yn)"
   ]
  },
  {
   "cell_type": "markdown",
   "metadata": {},
   "source": [
    "Split the data `(x,yn)` into training and test.  Let `xtr,ytr` be training data and `xts,yts` be the test data.  You can use the `train_test_split` function.  Set `test_size=0.33` so that 1/3 of the samples are held out for test."
   ]
  },
  {
   "cell_type": "code",
   "execution_count": 332,
   "metadata": {
    "collapsed": true
   },
   "outputs": [],
   "source": [
    "from sklearn.model_selection import train_test_split\n",
    "\n",
    "# TODO\n",
    "# xtr, xts, ytr, yts = ...\n",
    "xtr,xts,ytr,yts=train_test_split(x,yn,test_size=0.33)"
   ]
  },
  {
   "cell_type": "markdown",
   "metadata": {},
   "source": [
    "## Initial Fit for a Rational Model\n",
    "\n",
    "The [NIST website](https://www.itl.nist.gov/div898/strd/nls/data/hahn1.shtml) suggests using a *rational* model of the form,\n",
    "\n",
    "      yhat = (a[0] + a[1]*x + ... + a[d]*x^d)/(1 + b[0]*x + ... + b[d-1]*x^d)\n",
    "      \n",
    "with `d=3`.  The model parameters are `w = [a[0],...,a[d],b[0],...,b[d-1]]` so there are `2d+1` parameters total.    Complete the function below that takes vectors `w` and `x` and predicts a set of values `yhat` using the above model.\n",
    "   "
   ]
  },
  {
   "cell_type": "code",
   "execution_count": 333,
   "metadata": {
    "collapsed": true
   },
   "outputs": [],
   "source": [
    "def predict(w,x):\n",
    "    \n",
    "    # Get the length\n",
    "    d = (len(w)-1)//2\n",
    "    \n",
    "    # TODO.  Extract a and b from w\n",
    "    # a = ...\n",
    "    # b = ...\n",
    "    a=w[0:d+1]\n",
    "    b=w[d+1:]\n",
    "    af=a[::-1]\n",
    "    bf=b[::-1]\n",
    "    bf1=np.append(bf,1)\n",
    "    # TODO.  Compute yhat.  You may use the np.polyval function\n",
    "    # But, remember you must flip the order the a and b\n",
    "    # yhat = ...\n",
    "    yhat=np.polyval(af,x)/np.polyval(bf1,x)\n",
    "    print(a)\n",
    "    print(b)\n",
    "    print(af)\n",
    "    print(bf1)\n",
    "    return yhat"
   ]
  },
  {
   "cell_type": "markdown",
   "metadata": {},
   "source": [
    "When we fit with a nonlinear model, most methods only get convergence to a local minima.  So, you need a good initial condition.  For a rational model, one way to get is to realize that if:\n",
    "\n",
    "\n",
    "    y ~= (a[0] + a[1]*x + ... + a[d]*x^d)/(1 + b[0]*x + ... + b[d-1]*x^d)\n",
    "    \n",
    "Then:\n",
    "\n",
    "    y ~= a[0] + a[1]*x + ... + a[d]*x^d - b[0]*x*y + ... - b[d-1]*x^d*y.\n",
    "    \n",
    "So, we can solve for the the parameters `w = [a,b]` from linear regression of the predictors,\n",
    "\n",
    "    Z[i,:] = [ x[i], ... , x[i]**d, y[i]*x[i], ... , y[i}*x[i]**d ] "
   ]
  },
  {
   "cell_type": "code",
   "execution_count": 334,
   "metadata": {},
   "outputs": [
    {
     "data": {
      "text/plain": [
       "(7,)"
      ]
     },
     "execution_count": 334,
     "metadata": {},
     "output_type": "execute_result"
    }
   ],
   "source": [
    "d = 3\n",
    "da=np.array([1,2,3])\n",
    "# TODO.  Create the transformed feature matrix\n",
    "# Z = ...\n",
    "Z1=xtr[:,None]**da[None,:]\n",
    "Z2=ytr[:,None]*(xtr[:,None]**da[None,:])\n",
    "Z=np.append(Z1,Z2,axis=1)\n",
    "# TODO.  Fit with parameters with linear regression\n",
    "# regr = LinearRegression()\n",
    "# regr.fit(...)\n",
    "regr=LinearRegression()\n",
    "regr.fit(Z,ytr)\n",
    "# TODO\n",
    "# Extract the parameters from regr.coef_ and regr.intercept_ and store the parameter vector in winit\n",
    "# winit = ...\n",
    "regr.coef_[3:]=-regr.coef_[3:]\n",
    "winit=np.append(regr.intercept_,regr.coef_ )\n",
    "winit.shape"
   ]
  },
  {
   "cell_type": "markdown",
   "metadata": {},
   "source": [
    "Now plot the predicted values of the `yhat` vs. `x` using your estimated parameter `winit` for 1000 values `x` in `[0,1]`.  On the same plot, plot `yts` vs. `xts`.  You will see that you get a horrible fit."
   ]
  },
  {
   "cell_type": "code",
   "execution_count": 345,
   "metadata": {},
   "outputs": [
    {
     "name": "stdout",
     "output_type": "stream",
     "text": [
      "[ 0.00593865  0.0963933  -0.68044333  0.68723245]\n",
      "[-6.248041    9.8122555  -4.47033933]\n",
      "[ 0.68723245 -0.68044333  0.0963933   0.00593865]\n",
      "[-4.47033933  9.8122555  -6.248041    1.        ]\n"
     ]
    },
    {
     "data": {
      "text/plain": [
       "<matplotlib.collections.PathCollection at 0x2159e4607b8>"
      ]
     },
     "execution_count": 345,
     "metadata": {},
     "output_type": "execute_result"
    },
    {
     "data": {
      "image/png": "[encoded data removed]",
      "text/plain": [
       "<Figure size 432x288 with 1 Axes>"
      ]
     },
     "metadata": {
      "needs_background": "light"
     },
     "output_type": "display_data"
    }
   ],
   "source": [
    "# TODO\n",
    "# xp = ...\n",
    "# yhat = ...\n",
    "# plot(...)\n",
    "xp  =np.linspace(0,1,num=1000)\n",
    "yhat=predict(winit,xp)\n",
    "plt.scatter(xp,yhat)\n",
    "plt.scatter(xts,yts)"
   ]
  },
  {
   "cell_type": "markdown",
   "metadata": {},
   "source": [
    "The reason the previous fit is poor is that the denominator in `yhat` goes close to zero.   To avoid this problem, we can use Ridge regression, to try to keep the parameters close to zero.  Re-run the fit above with `Ridge` with `alpha = 1e-3`. You should see you get a reasonable, but not perfect fit."
   ]
  },
  {
   "cell_type": "code",
   "execution_count": 346,
   "metadata": {},
   "outputs": [
    {
     "name": "stdout",
     "output_type": "stream",
     "text": [
      "[ 0.00069606  0.27959325 -0.65386273  0.35704862]\n",
      "[-2.4910844   1.60012897 -0.11345853]\n",
      "[ 0.35704862 -0.65386273  0.27959325  0.00069606]\n",
      "[-0.11345853  1.60012897 -2.4910844   1.        ]\n"
     ]
    },
    {
     "data": {
      "text/plain": [
       "(-5, 10)"
      ]
     },
     "execution_count": 346,
     "metadata": {},
     "output_type": "execute_result"
    },
    {
     "data": {
      "image/png": "[encoded data removed]",
      "text/plain": [
       "<Figure size 432x288 with 1 Axes>"
      ]
     },
     "metadata": {
      "needs_background": "light"
     },
     "output_type": "display_data"
    }
   ],
   "source": [
    "# TODO.  Fit with parameters with linear regression\n",
    "# regr = Ridge(alpha=1e-3)\n",
    "# regr.fit(...)\n",
    "regr=Ridge(alpha=1e-3)\n",
    "regr.fit(Z,ytr)\n",
    "# TODO\n",
    "# Extract the parameters from regr.coef_ and regr.intercept_\n",
    "# winit = ...\n",
    "regr.coef_[3:]=-regr.coef_[3:]\n",
    "winit_ridge=np.append(regr.intercept_,regr.coef_ )\n",
    "# TODO\n",
    "# Plot the results as above.\n",
    "\n",
    "yhat_ridge=predict(winit_ridge,xp)\n",
    "plt.scatter(xp,yhat_ridge)\n",
    "plt.scatter(xts,yts)\n",
    "plt.ylim(-5,10)"
   ]
  },
  {
   "cell_type": "markdown",
   "metadata": {},
   "source": [
    "## Creating a Loss Function\n",
    "\n",
    "We can now use gradient descent to improve our initial estimate.  Complete the following function to compute\n",
    "\n",
    "    f(w) = 0.5*\\sum_i (y[i] - yhat[i])^2\n",
    "    \n",
    "and `fgrad`, the gradient of `f(w)`."
   ]
  },
  {
   "cell_type": "code",
   "execution_count": 321,
   "metadata": {
    "collapsed": true
   },
   "outputs": [],
   "source": [
    "def feval(w,x,y):\n",
    "        \n",
    "    d=(len(w)-1)//2\n",
    "    # TODO.  Parse w\n",
    "    # a = ...\n",
    "    # b = ...\n",
    "    a=np.append(w[-1],w[:d])\n",
    "    b=w[d:-1]\n",
    "    # TODO.  Znum[i,j] = x[i]**j\n",
    "    Znum=np.array([xtr**i for i in range(0,d+1)])\n",
    "    # TODO.  Zden[i,j] = x[i]**(j+1)\n",
    "    Zden=np.array([xtr**i for i in range(1,d+1)])\n",
    "    # TODO.  Compute yhat \n",
    "    # Compute the numerator and denominator\n",
    "    yhat=a.dot(Znum)/(b.dot(Zden)+1)\n",
    "    # TODO.  Compute loss\n",
    "    # f = ...\n",
    "    f= 0.5*np.sum((yhat-y)**2)\n",
    "    # TODO.  Compute gradients\n",
    "    # fgrad = ...\n",
    "    df_da=np.array([np.dot(x**j/(b.dot(Zden)+1),(yhat-y)) for j,_ in enumerate(a)])\n",
    "    df_db=np.array([np.dot(x**(j+1)/(b.dot(Zden)+1),(y-yhat)*yhat) for j,_ in enumerate(b)]+[0])\n",
    "    fgrad=np.r_['0,2',df_da,df_db]\n",
    "    return f, fgrad\n"
   ]
  },
  {
   "cell_type": "markdown",
   "metadata": {},
   "source": [
    "Test the gradient function:\n",
    "* Take `w0=winit` and compute `f0,fgrad0 = feval(w0,xtr,ytr)`\n",
    "* Take `w1` very close to `w0` and compute `f1,fgrad1 = feval(w1,xtr,ytr)`\n",
    "* Verify that `f1-f0` is close to the predicted value based on the gradient."
   ]
  },
  {
   "cell_type": "code",
   "execution_count": 322,
   "metadata": {},
   "outputs": [
    {
     "name": "stdout",
     "output_type": "stream",
     "text": [
      "predicted value: 0.001903448764034486\n",
      "f1-f0: 0.001903452127635319\n"
     ]
    }
   ],
   "source": [
    "# TODO\n",
    "w1=winit-1e-6\n",
    "f_0,fgrad_0=feval(winit,xtr,ytr)\n",
    "f_1,fgrad_1=feval(w1,xtr,ytr)\n",
    "print(\"predicted value:\",fgrad_0.flatten()[:-1].dot(w1-winit))\n",
    "print(\"f1-f0:\",f_1-f_0)"
   ]
  },
  {
   "cell_type": "markdown",
   "metadata": {},
   "source": [
    "## Implement gradient descent\n",
    "\n",
    "We will now try to minimize the loss function with gradient descent.  Using the function `feval` defined above, implement gradient descent.  Run gradient descent with a step size of `alpha=1e-6` starting at `w=winit`.  Run it for `nit=10000` iterations.  Compute `fgd[it]`= the objective function on iteration `it`.  Plot `fgd[it]` vs. `it`.  \n",
    "\n",
    "You should see that the training loss decreases, but it still hasn't converged after 10000 iterations."
   ]
  },
  {
   "cell_type": "code",
   "execution_count": 323,
   "metadata": {},
   "outputs": [
    {
     "data": {
      "image/png": "[encoded data removed]",
      "text/plain": [
       "<Figure size 432x288 with 1 Axes>"
      ]
     },
     "metadata": {
      "needs_background": "light"
     },
     "output_type": "display_data"
    }
   ],
   "source": [
    "# TODO\n",
    "# fgd = ...\n",
    "nit = 10000\n",
    "step = 1e-6\n",
    "\n",
    "\n",
    "w0 = winit   \n",
    "hist = {'w': [], 'f': []}\n",
    "    \n",
    "    # Loop over iterations\n",
    "for it in range(nit):\n",
    "\n",
    "        # Evaluate the function and gradient\n",
    "        f0, fgrad0 = feval(w0,xtr,ytr)\n",
    "\n",
    "        # Take a gradient step\n",
    "        w0 = w0 - step*fgrad_0.flatten()[:-1]\n",
    "        \n",
    "         # Save history\n",
    "        hist['f'].append(f0)\n",
    "        hist['w'].append(w0)\n",
    "\n",
    "    # Convert to numpy arrays\n",
    "for elem in ('f', 'w'):\n",
    "        hist[elem] = np.array(hist[elem])\n",
    "t = np.arange(nit)\n",
    "hist_f=hist['f']\n",
    "plt.semilogx(t, hist['f'])\n",
    "plt.ylim([0,1000])\n",
    "plt.grid()"
   ]
  },
  {
   "cell_type": "markdown",
   "metadata": {},
   "source": [
    "Now, try to get a faster convergence with adaptive step-size using the Armijo rule. Implement the gradient descent with adaptive step size.  Let `fadapt[it]` be the loss function on iteration `it`.  Plot `fadapt[it]` and `fgd[it]` vs. `it` on the same graph.  You should see a slight improvement, but not much."
   ]
  },
  {
   "cell_type": "code",
   "execution_count": 324,
   "metadata": {
    "scrolled": true
   },
   "outputs": [
    {
     "data": {
      "text/plain": [
       "<matplotlib.legend.Legend at 0x2159ca4c2e8>"
      ]
     },
     "execution_count": 324,
     "metadata": {},
     "output_type": "execute_result"
    },
    {
     "data": {
      "image/png": "[encoded data removed]",
      "text/plain": [
       "<Figure size 720x360 with 1 Axes>"
      ]
     },
     "metadata": {
      "needs_background": "light"
     },
     "output_type": "display_data"
    }
   ],
   "source": [
    "# TODO\n",
    "# fadapt = ...\n",
    "nit = 10000\n",
    "step = 1e-6  # Initial step\n",
    "def grad_opt_adapt(feval, winit, nit=1000, lr_init=1e-6):\n",
    "    \"\"\"\n",
    "    Gradient descent optimization with adaptive step size\n",
    "    \n",
    "    feval:  A function that returns f, fgrad, the objective\n",
    "            function and its gradient\n",
    "    winit:  Initial estimate\n",
    "    nit:    Number of iterations\n",
    "    lr:     Initial learning rate\n",
    "    \"\"\"\n",
    "    \n",
    "    # Set initial point\n",
    "    w0 = winit\n",
    "    f0, fgrad0 = feval(w0,xtr,ytr)\n",
    "    lr = lr_init\n",
    "    \n",
    "    # Create history dictionary for tracking progress per iteration.\n",
    "    # This isn't necessary if you just want the final answer, but it \n",
    "    # is useful for debugging\n",
    "    hist = {'lr': [], 'w': [], 'f': []}\n",
    "\n",
    "    for it in range(nit):\n",
    "\n",
    "        # Take a gradient step\n",
    "        w1 = w0 - lr*fgrad0.flatten()[:-1]\n",
    "\n",
    "        # Evaluate the test point by computing the objective function, f1,\n",
    "        # at the test point and the predicted decrease, df_est\n",
    "        f1, fgrad1 = feval(w1,xtr,ytr)\n",
    "        df_est = fgrad1.flatten()[:-1].dot(w1-w0)\n",
    "        \n",
    "        # Check if test point passes the Armijo condition\n",
    "        alpha = 0.5\n",
    "        if (f1-f0 < alpha*df_est) and (f1 < f0):\n",
    "            # If descent is sufficient, accept the point and increase the\n",
    "            # learning rate\n",
    "            lr = lr*2\n",
    "            f0 = f1\n",
    "            fgrad0 = fgrad1\n",
    "            w0 = w1\n",
    "        else:\n",
    "            # Otherwise, decrease the learning rate\n",
    "            lr = lr/2            \n",
    "            \n",
    "        # Save history\n",
    "        hist['f'].append(f0)\n",
    "        hist['lr'].append(lr)\n",
    "        hist['w'].append(w0)\n",
    "\n",
    "    # Convert to numpy arrays\n",
    "    for elem in ('f', 'lr', 'w'):\n",
    "        hist[elem] = np.array(hist[elem])\n",
    "    return w0, f0, hist\n",
    "\n",
    "\n",
    "w, f0, hist = grad_opt_adapt(feval, winit, nit=nit)\n",
    "leg_str=['gradient descent','gradient with Armijo rule']\n",
    "t = np.arange(nit)\n",
    "plt.figure(figsize=(10,5))\n",
    "plt.subplot(2,1,1)\n",
    "plt.semilogx(t, hist['f'])\n",
    "plt.grid()\n",
    "plt.ylabel('Loss')\n",
    "plt.legend(leg_str, loc='upper right')"
   ]
  },
  {
   "cell_type": "markdown",
   "metadata": {},
   "source": [
    "Using he final estimate for `w` from the adaptive step-size plot the predicted values of the `yhat` vs. `x` usfor 1000 values `x` in `[0,1]`.  On the same plot, plot `yhat` vs. `x` for the initial parameter `w=winit`.  Also, plot `yts` vs. `xts`.  You should see that gradient descent was able to improve the estimat slightly, although the initial estimate was not too bad."
   ]
  },
  {
   "cell_type": "code",
   "execution_count": 347,
   "metadata": {},
   "outputs": [
    {
     "name": "stdout",
     "output_type": "stream",
     "text": [
      "[2.73499941 0.92327108 0.55159034 0.68040813]\n",
      "[-3.42994985  8.57206697 -2.91722147]\n",
      "[0.68040813 0.55159034 0.92327108 2.73499941]\n",
      "[-2.91722147  8.57206697 -3.42994985  1.        ]\n",
      "[ 0.00069606  0.27959325 -0.65386273  0.35704862]\n",
      "[-2.4910844   1.60012897 -0.11345853]\n",
      "[ 0.35704862 -0.65386273  0.27959325  0.00069606]\n",
      "[-0.11345853  1.60012897 -2.4910844   1.        ]\n"
     ]
    },
    {
     "data": {
      "text/plain": [
       "(-5, 10)"
      ]
     },
     "execution_count": 347,
     "metadata": {},
     "output_type": "execute_result"
    },
    {
     "data": {
      "image/png": "[encoded data removed]",
      "text/plain": [
       "<Figure size 432x288 with 1 Axes>"
      ]
     },
     "metadata": {
      "needs_background": "light"
     },
     "output_type": "display_data"
    }
   ],
   "source": [
    "# TODO\n",
    "# xp = np.linspace(...)\n",
    "# yhat = ...\n",
    "# plot(...)\n",
    "xp = np.linspace(0,1,1000)\n",
    "yhat_ada=predict(w,xp)\n",
    "yhat_init=predict(winit_ridge,xp)\n",
    "plt.semilogx(xp,yhat_ada,'g')\n",
    "plt.semilogx(xp,yhat_init,'r')\n",
    "plt.scatter(xts,yts)\n",
    "plt.ylim(-5,10)"
   ]
  },
  {
   "cell_type": "markdown",
   "metadata": {},
   "source": [
    "## Momentum Gradient Descent\n",
    "\n",
    "This section is bonus.\n",
    "\n",
    "One way to improve gradient descent is to use *momentum*.  In momentum gradient descent, the update rule is:\n",
    "\n",
    "    f, fgrad = feval(w,...)\n",
    "    z = beta*z + fgrad\n",
    "    w = w - step*z\n",
    "    \n",
    "This is similar to gradient descent, except that there is a second order term on the gradient.  Implement this algorithm with `beta = 0.99` and `step=1e-5`.   Compare the convergence of the loss function with gradient descent.  "
   ]
  },
  {
   "cell_type": "code",
   "execution_count": 17,
   "metadata": {
    "collapsed": true
   },
   "outputs": [],
   "source": [
    "# TODO\n",
    "nit = 1000\n",
    "step = 1e-5\n",
    "beta = 0.99"
   ]
  },
  {
   "cell_type": "code",
   "execution_count": 18,
   "metadata": {
    "collapsed": true
   },
   "outputs": [],
   "source": [
    "# TODO\n",
    "# plot yhat vs. x"
   ]
  },
  {
   "cell_type": "markdown",
   "metadata": {},
   "source": [
    "## Beyond This Lab\n",
    "In this lab, we have just touched at some of the ideas in optimization.  There are several other important algorithms that you can explore:\n",
    "* [Levenberg-Marquardt](https://en.wikipedia.org/wiki/Levenberg%E2%80%93Marquardt_algorithm) method for non-linear least squares\n",
    "* Newton's method\n",
    "* More difficult non-linear least squares problems."
   ]
  },
  {
   "cell_type": "code",
   "execution_count": null,
   "metadata": {
    "collapsed": true
   },
   "outputs": [],
   "source": []
  }
 ],
 "metadata": {
  "kernelspec": {
   "display_name": "Python 3",
   "language": "python",
   "name": "python3"
  },
  "language_info": {
   "codemirror_mode": {
    "name": "ipython",
    "version": 3
   },
   "file_extension": ".py",
   "mimetype": "text/x-python",
   "name": "python",
   "nbconvert_exporter": "python",
   "pygments_lexer": "ipython3",
   "version": "3.6.8"
  }
 },
 "nbformat": 4,
 "nbformat_minor": 2
}
